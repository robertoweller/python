{
 "metadata": {
  "language_info": {
   "codemirror_mode": {
    "name": "ipython",
    "version": 3
   },
   "file_extension": ".py",
   "mimetype": "text/x-python",
   "name": "python",
   "nbconvert_exporter": "python",
   "pygments_lexer": "ipython3",
   "version": "3.8.4"
  },
  "orig_nbformat": 2,
  "kernelspec": {
   "name": "pythonjvsc74a57bd07e4a0f2223446a2e5c0ab2f99a468fba90130df3d58cbe6c07849af06c54b9c9",
   "display_name": "Python 3.8.4  ('venv': venv)"
  },
  "metadata": {
   "interpreter": {
    "hash": "7e4a0f2223446a2e5c0ab2f99a468fba90130df3d58cbe6c07849af06c54b9c9"
   }
  }
 },
 "nbformat": 4,
 "nbformat_minor": 2,
 "cells": [
  {
   "source": [
    "## Primeira conta\n",
    "* É uma conta básica do Python\n",
    "* Python é muito bom para iniciantes\n",
    "* O foco aqui é Machine Learning, mas vai ter muito conseito Python\n"
   ],
   "cell_type": "markdown",
   "metadata": {}
  },
  {
   "cell_type": "code",
   "execution_count": 17,
   "metadata": {},
   "outputs": [],
   "source": [
    "soma = 2+3\n",
    "li_1 = [1, 2, 3]\n",
    "li_2 = [1, 2, 3]"
   ]
  },
  {
   "source": [
    "# Nova linha depois"
   ],
   "cell_type": "code",
   "metadata": {},
   "execution_count": 35,
   "outputs": []
  },
  {
   "source": [
    "```\n",
    "# Comentário Python\n",
    "São usados o # no inicio, dái o interpretador ignora o que foi escrito\n",
    "```"
   ],
   "cell_type": "markdown",
   "metadata": {}
  },
  {
   "source": [
    "### A função zip é muito boa, porque ela junta duas listas"
   ],
   "cell_type": "markdown",
   "metadata": {}
  },
  {
   "cell_type": "code",
   "execution_count": 33,
   "metadata": {},
   "outputs": [],
   "source": [
    "\n",
    "so_lista = zip(li_1, li_2)\n",
    "\n",
    "ss =[i[0]+i[1] for i in so_lista]"
   ]
  },
  {
   "cell_type": "code",
   "execution_count": 36,
   "metadata": {},
   "outputs": [
    {
     "output_type": "execute_result",
     "data": {
      "text/plain": [
       "[20, 50, 70, 90]"
      ]
     },
     "metadata": {},
     "execution_count": 36
    }
   ],
   "source": [
    "pesos =[20, 50, 90, 70]\n",
    "pesos = sorted(pesos)\n",
    "pesos"
   ]
  },
  {
   "cell_type": "code",
   "execution_count": null,
   "metadata": {},
   "outputs": [],
   "source": []
  }
 ]
}